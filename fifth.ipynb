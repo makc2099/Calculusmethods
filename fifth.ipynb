{
 "cells": [
  {
   "cell_type": "markdown",
   "id": "champion-picnic",
   "metadata": {},
   "source": [
    "**Задание 5, Вариант #29**"
   ]
  },
  {
   "cell_type": "code",
   "execution_count": 1,
   "id": "driving-allergy",
   "metadata": {},
   "outputs": [],
   "source": [
    "import numpy\n",
    "import math\n",
    "import pandas as pd\n",
    "import sympy as sp\n",
    "import matplotlib.pyplot as plt"
   ]
  },
  {
   "cell_type": "markdown",
   "id": "democratic-shade",
   "metadata": {},
   "source": [
    "Задано изображение: $1/(p^{2/3} - 1)$"
   ]
  },
  {
   "cell_type": "code",
   "execution_count": 2,
   "id": "abstract-navigation",
   "metadata": {},
   "outputs": [],
   "source": [
    "p = sp.symbols('p')\n",
    "f_symbol = 1.0 / (sp.Pow(p, 2.0 / 3) - 1)"
   ]
  },
  {
   "cell_type": "markdown",
   "id": "applicable-implement",
   "metadata": {},
   "source": [
    "Вычисление производных изображения:"
   ]
  },
  {
   "cell_type": "code",
   "execution_count": 3,
   "id": "polyphonic-variety",
   "metadata": {},
   "outputs": [],
   "source": [
    "def f_derivative(n, p_):\n",
    "    return sp.lambdify(p, sp.diff(f_symbol, p, int(n)))(p_)"
   ]
  },
  {
   "cell_type": "markdown",
   "id": "false-regular",
   "metadata": {},
   "source": [
    "Слагаемые ряда функции-оригинала:"
   ]
  },
  {
   "cell_type": "code",
   "execution_count": 4,
   "id": "preceding-peace",
   "metadata": {},
   "outputs": [],
   "source": [
    "def series_elem(n, t):\n",
    "    if n % 2 == 0:\n",
    "        return -(t ** (- 1.0 / 2 + ((n-1)//2)/2)) / math.gamma(1 / 2 + ((n-1)//2)/2)\n",
    "    return (t ** (- 5.0 / 6 + (n//2)/2)) / math.gamma(1.0 / 6 + (n//2)/2)"
   ]
  },
  {
   "cell_type": "markdown",
   "id": "helpful-print",
   "metadata": {},
   "source": [
    "Определение операторов Виддера:"
   ]
  },
  {
   "cell_type": "code",
   "execution_count": 5,
   "id": "comprehensive-spouse",
   "metadata": {},
   "outputs": [],
   "source": [
    "def w_n(n, t):\n",
    "    p = float(n) / t\n",
    "    sign = -1\n",
    "    if (n % 2 == 0):\n",
    "        sign = 1\n",
    "    return sign * float(p ** (n + 1)) / math.factorial(n) * f_derivative(n,p)"
   ]
  },
  {
   "cell_type": "code",
   "execution_count": 6,
   "id": "hydraulic-remains",
   "metadata": {},
   "outputs": [],
   "source": [
    "def dj(k, n):\n",
    "    d_j = [float(j) / n for j in range(1, k + 1)]\n",
    "    return d_j"
   ]
  },
  {
   "cell_type": "markdown",
   "id": "republican-means",
   "metadata": {},
   "source": [
    "Строим таблицу для обращения преобразования Лапласа методом Виддера с ускорением сходимостии без него, а так же строим оригинал в виде ряда"
   ]
  },
  {
   "cell_type": "code",
   "execution_count": 7,
   "id": "printable-cover",
   "metadata": {},
   "outputs": [],
   "source": [
    "def ckj(n, k):\n",
    "    d_j = dj(k, n)\n",
    "    c_k_j = []\n",
    "    for j in range(1, k + 1):\n",
    "        ans = 1\n",
    "        for i in range(1, n + 1):\n",
    "            if i != j:\n",
    "                ans *= d_j[j - 1] / (d_j[j - 1] - d_j[i - 1])\n",
    "        c_k_j.append(ans)\n",
    "    return c_k_j"
   ]
  },
  {
   "cell_type": "markdown",
   "id": "premier-soviet",
   "metadata": {},
   "source": [
    "Метод Виддера:"
   ]
  },
  {
   "cell_type": "code",
   "execution_count": 8,
   "id": "abandoned-forum",
   "metadata": {},
   "outputs": [],
   "source": [
    "def simple_widder(n, t):\n",
    "    return w_n(n, t)"
   ]
  },
  {
   "cell_type": "code",
   "execution_count": 9,
   "id": "adapted-sixth",
   "metadata": {},
   "outputs": [],
   "source": [
    "def advanced_widder(n, k, t):\n",
    "    d_j = dj(k, n)\n",
    "    c_k_j = ckj(n, k)\n",
    "    ans = 0\n",
    "    for j in range(1, k + 1):\n",
    "        ans += c_k_j[j - 1] * w_n(n * d_j[j - 1], t)\n",
    "    return ans"
   ]
  },
  {
   "cell_type": "code",
   "execution_count": 10,
   "id": "italic-humanity",
   "metadata": {},
   "outputs": [],
   "source": [
    "def series(n, t):\n",
    "    ans = 0\n",
    "    for i in range(1, n + 1):\n",
    "        ans += series_elem(i, t)\n",
    "    return ans"
   ]
  },
  {
   "cell_type": "code",
   "execution_count": 11,
   "id": "italian-level",
   "metadata": {},
   "outputs": [],
   "source": [
    "t = 0.5\n",
    "result = numpy.zeros((15, 3))\n",
    "for i in range(1, 16):\n",
    "    result[i - 1][0] = simple_widder(i, t)\n",
    "    result[i - 1][1] = advanced_widder(i, i, t)\n",
    "    result[i - 1][2] = series(i, t)\n",
    "df = pd.DataFrame(result, index=[n for n in range(1, 16)],\n",
    "columns=['Метод Виддера', 'Ускоренный метод Виддера', 'Разложение в ряд'])"
   ]
  },
  {
   "cell_type": "markdown",
   "id": "egyptian-ecuador",
   "metadata": {},
   "source": [
    "Сравнение значений методов в точке t=0.5"
   ]
  },
  {
   "cell_type": "code",
   "execution_count": 12,
   "id": "suspended-fundamental",
   "metadata": {},
   "outputs": [
    {
     "data": {
      "text/html": [
       "<div>\n",
       "<style scoped>\n",
       "    .dataframe tbody tr th:only-of-type {\n",
       "        vertical-align: middle;\n",
       "    }\n",
       "\n",
       "    .dataframe tbody tr th {\n",
       "        vertical-align: top;\n",
       "    }\n",
       "\n",
       "    .dataframe thead th {\n",
       "        text-align: right;\n",
       "    }\n",
       "</style>\n",
       "<table border=\"1\" class=\"dataframe\">\n",
       "  <thead>\n",
       "    <tr style=\"text-align: right;\">\n",
       "      <th></th>\n",
       "      <th>Метод Виддера</th>\n",
       "      <th>Ускоренный метод Виддера</th>\n",
       "      <th>Разложение в ряд</th>\n",
       "    </tr>\n",
       "  </thead>\n",
       "  <tbody>\n",
       "    <tr>\n",
       "      <th>1</th>\n",
       "      <td>6.134172</td>\n",
       "      <td>6.134172</td>\n",
       "      <td>0.320104</td>\n",
       "    </tr>\n",
       "    <tr>\n",
       "      <th>2</th>\n",
       "      <td>3.700188</td>\n",
       "      <td>1.266204</td>\n",
       "      <td>-0.477781</td>\n",
       "    </tr>\n",
       "    <tr>\n",
       "      <th>3</th>\n",
       "      <td>3.258522</td>\n",
       "      <td>2.929683</td>\n",
       "      <td>0.452656</td>\n",
       "    </tr>\n",
       "    <tr>\n",
       "      <th>4</th>\n",
       "      <td>3.074328</td>\n",
       "      <td>2.581173</td>\n",
       "      <td>-0.547344</td>\n",
       "    </tr>\n",
       "    <tr>\n",
       "      <th>5</th>\n",
       "      <td>2.973356</td>\n",
       "      <td>2.633309</td>\n",
       "      <td>0.412966</td>\n",
       "    </tr>\n",
       "    <tr>\n",
       "      <th>6</th>\n",
       "      <td>2.909613</td>\n",
       "      <td>2.627241</td>\n",
       "      <td>-0.384918</td>\n",
       "    </tr>\n",
       "    <tr>\n",
       "      <th>7</th>\n",
       "      <td>2.865718</td>\n",
       "      <td>2.627818</td>\n",
       "      <td>0.312909</td>\n",
       "    </tr>\n",
       "    <tr>\n",
       "      <th>8</th>\n",
       "      <td>2.833651</td>\n",
       "      <td>2.627772</td>\n",
       "      <td>-0.187091</td>\n",
       "    </tr>\n",
       "    <tr>\n",
       "      <th>9</th>\n",
       "      <td>2.809200</td>\n",
       "      <td>2.627775</td>\n",
       "      <td>0.224471</td>\n",
       "    </tr>\n",
       "    <tr>\n",
       "      <th>10</th>\n",
       "      <td>2.789939</td>\n",
       "      <td>2.627775</td>\n",
       "      <td>-0.041491</td>\n",
       "    </tr>\n",
       "    <tr>\n",
       "      <th>11</th>\n",
       "      <td>2.774376</td>\n",
       "      <td>2.627775</td>\n",
       "      <td>0.167858</td>\n",
       "    </tr>\n",
       "    <tr>\n",
       "      <th>12</th>\n",
       "      <td>2.761537</td>\n",
       "      <td>2.627775</td>\n",
       "      <td>0.042858</td>\n",
       "    </tr>\n",
       "    <tr>\n",
       "      <th>13</th>\n",
       "      <td>2.750767</td>\n",
       "      <td>2.627775</td>\n",
       "      <td>0.137833</td>\n",
       "    </tr>\n",
       "    <tr>\n",
       "      <th>14</th>\n",
       "      <td>2.741601</td>\n",
       "      <td>2.627775</td>\n",
       "      <td>0.084641</td>\n",
       "    </tr>\n",
       "    <tr>\n",
       "      <th>15</th>\n",
       "      <td>2.733707</td>\n",
       "      <td>2.627775</td>\n",
       "      <td>0.123894</td>\n",
       "    </tr>\n",
       "  </tbody>\n",
       "</table>\n",
       "</div>"
      ],
      "text/plain": [
       "    Метод Виддера  Ускоренный метод Виддера  Разложение в ряд\n",
       "1        6.134172                  6.134172          0.320104\n",
       "2        3.700188                  1.266204         -0.477781\n",
       "3        3.258522                  2.929683          0.452656\n",
       "4        3.074328                  2.581173         -0.547344\n",
       "5        2.973356                  2.633309          0.412966\n",
       "6        2.909613                  2.627241         -0.384918\n",
       "7        2.865718                  2.627818          0.312909\n",
       "8        2.833651                  2.627772         -0.187091\n",
       "9        2.809200                  2.627775          0.224471\n",
       "10       2.789939                  2.627775         -0.041491\n",
       "11       2.774376                  2.627775          0.167858\n",
       "12       2.761537                  2.627775          0.042858\n",
       "13       2.750767                  2.627775          0.137833\n",
       "14       2.741601                  2.627775          0.084641\n",
       "15       2.733707                  2.627775          0.123894"
      ]
     },
     "execution_count": 12,
     "metadata": {},
     "output_type": "execute_result"
    }
   ],
   "source": [
    "df"
   ]
  },
  {
   "cell_type": "markdown",
   "id": "palestinian-girlfriend",
   "metadata": {},
   "source": [
    "Графики оригиналов, полученных методами, на интервале (2;3) при n=20"
   ]
  },
  {
   "cell_type": "code",
   "execution_count": 13,
   "id": "presidential-update",
   "metadata": {},
   "outputs": [
    {
     "data": {
      "image/png": "[encoded data removed]",
      "text/plain": [
       "<Figure size 432x288 with 1 Axes>"
      ]
     },
     "metadata": {
      "needs_background": "light"
     },
     "output_type": "display_data"
    }
   ],
   "source": [
    "n = 20\n",
    "\n",
    "def y1(x):\n",
    "    return simple_widder(n,x)\n",
    "\n",
    "def y2(x):\n",
    "    return advanced_widder(n,n,x)\n",
    "\n",
    "def y3(x):\n",
    "    return series(n,x)\n",
    "\n",
    "x = [2.1,2.2,2.3,2.4,2.5,2.6,2.7,2.8,2.9]\n",
    "f1 = [y1(ii) for ii in x]\n",
    "f2 = [y2(ii) for ii in x]\n",
    "f3 = [y3(ii) for ii in x]\n",
    "\n",
    "fig, ax = plt.subplots()                        \n",
    "ax.plot(x, f1, color=\"blue\", label=\"Метод Виддера\")\n",
    "ax.plot(x, f2, color=\"red\", label=\"Ускоренный метод Виддера\")    \n",
    "ax.plot(x, f3, color=\"green\", label=\"Разложение в ряд\")  \n",
    "ax.set_xlabel(\"x\")                              \n",
    "ax.set_ylabel(\"y\")                             \n",
    "ax.legend()                                     \n",
    "\n",
    "plt.show()"
   ]
  },
  {
   "cell_type": "code",
   "execution_count": 14,
   "id": "radical-communication",
   "metadata": {},
   "outputs": [],
   "source": [
    "fig.savefig('widder graph')"
   ]
  }
 ],
 "metadata": {
  "kernelspec": {
   "display_name": "Python 3",
   "language": "python",
   "name": "python3"
  },
  "language_info": {
   "codemirror_mode": {
    "name": "ipython",
    "version": 3
   },
   "file_extension": ".py",
   "mimetype": "text/x-python",
   "name": "python",
   "nbconvert_exporter": "python",
   "pygments_lexer": "ipython3",
   "version": "3.8.6"
  }
 },
 "nbformat": 4,
 "nbformat_minor": 5
}
