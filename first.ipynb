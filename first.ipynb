{
 "cells": [
  {
   "cell_type": "markdown",
   "id": "english-highland",
   "metadata": {},
   "source": [
    "**Задание #1, Вариант #29**"
   ]
  },
  {
   "cell_type": "markdown",
   "id": "living-paint",
   "metadata": {},
   "source": [
    "Исходные данные: $a_{k}$ и $b_{k}$ - задана общая матрица Вандермонда $A$"
   ]
  },
  {
   "cell_type": "code",
   "execution_count": 1,
   "id": "recent-activation",
   "metadata": {},
   "outputs": [],
   "source": [
    "import numpy as np\n",
    "from numpy.linalg import eig\n",
    "from pandas import DataFrame\n",
    "\n",
    "def a(k):\n",
    "    return np.divide(k, 3)\n",
    "\n",
    "def b(k, n):\n",
    "    return np.power(n + 1 - k, -1, dtype=np.double)"
   ]
  },
  {
   "cell_type": "markdown",
   "id": "dirty-pressure",
   "metadata": {},
   "source": [
    "Для начала нам необходим корень матрицы A. Найдем его двумя способами."
   ]
  },
  {
   "cell_type": "markdown",
   "id": "refined-threshold",
   "metadata": {},
   "source": [
    "Первый способ - через собственные числа и векторы. Не забываем сразу проверить - все ли собственные числа положительные?"
   ]
  },
  {
   "cell_type": "code",
   "execution_count": 2,
   "id": "established-republic",
   "metadata": {},
   "outputs": [],
   "source": [
    "def eigenSqrt(A):\n",
    "    (eigenvalues, eigenvectors) = np.linalg.eig(A)\n",
    "\n",
    "    if(np.any(eigenvalues <= 0)):  raise TypeError(\"Negative eigen numbers!\")\n",
    "\n",
    "    sqrt_eigenvalues = np.sqrt(eigenvalues)\n",
    "    sqrt_eigenvalues_matrix = np.diag(sqrt_eigenvalues)\n",
    "    \n",
    "    B = np.dot(np.dot(eigenvectors, sqrt_eigenvalues_matrix), np.linalg.inv(eigenvectors))\n",
    "    B_square = np.dot(B, B)\n",
    "    deviation = np.mean(np.abs(B_square - A))\n",
    "    \n",
    "    return [np.linalg.cond(B), deviation]"
   ]
  },
  {
   "cell_type": "markdown",
   "id": "crazy-grenada",
   "metadata": {},
   "source": [
    "Второй предлагаемый метод из статьи - с помощью метода Ньютона."
   ]
  },
  {
   "cell_type": "code",
   "execution_count": 3,
   "id": "compact-honor",
   "metadata": {},
   "outputs": [],
   "source": [
    "def newtonSqrt(A):\n",
    "    B = [A]\n",
    "\n",
    "    prev_deviation = None\n",
    "    deviation = None\n",
    "    while prev_deviation is None or deviation is None or deviation < prev_deviation:\n",
    "        if not deviation is None:\n",
    "            prev_deviation = deviation\n",
    "        last_B = B[-1]\n",
    "        if np.linalg.det(last_B) == 0:\n",
    "            break\n",
    "        new_B = (last_B + np.dot(np.linalg.inv(last_B), A)) / 2\n",
    "        deviation = np.mean(np.abs(new_B - last_B))\n",
    "        B.append(new_B)\n",
    "\n",
    "    if (len(B) > 2):\n",
    "        answer_B = B[-2]\n",
    "    else:\n",
    "        answer_B = B[-1]\n",
    "    B_square = np.dot(answer_B, answer_B)\n",
    "    ans_deviation = np.mean(np.abs(B_square - A))\n",
    "    return [np.linalg.cond(answer_B), ans_deviation]"
   ]
  },
  {
   "cell_type": "markdown",
   "id": "indie-harvard",
   "metadata": {},
   "source": [
    "Вывод таблицы. **eigen_dev** и **newton_dev** отвечают за погрешность для равенства $A = B^2\\$. Через них мы сможем отследить момент наступления неустойчивости процесса.\n"
   ]
  },
  {
   "cell_type": "code",
   "execution_count": 4,
   "id": "decent-graduate",
   "metadata": {},
   "outputs": [
    {
     "data": {
      "text/html": [
       "<div>\n",
       "<style scoped>\n",
       "    .dataframe tbody tr th:only-of-type {\n",
       "        vertical-align: middle;\n",
       "    }\n",
       "\n",
       "    .dataframe tbody tr th {\n",
       "        vertical-align: top;\n",
       "    }\n",
       "\n",
       "    .dataframe thead th {\n",
       "        text-align: right;\n",
       "    }\n",
       "</style>\n",
       "<table border=\"1\" class=\"dataframe\">\n",
       "  <thead>\n",
       "    <tr style=\"text-align: right;\">\n",
       "      <th></th>\n",
       "      <th>n</th>\n",
       "      <th>cond(A)</th>\n",
       "      <th>cond(B_eig)</th>\n",
       "      <th>cond(B_newton)</th>\n",
       "      <th>eig_dev</th>\n",
       "      <th>newton_dev</th>\n",
       "    </tr>\n",
       "  </thead>\n",
       "  <tbody>\n",
       "    <tr>\n",
       "      <th>0</th>\n",
       "      <td>2</td>\n",
       "      <td>1.372552e+01</td>\n",
       "      <td>3.805254e+00</td>\n",
       "      <td>3.805254</td>\n",
       "      <td>3.191891e-16</td>\n",
       "      <td>1.526557e-16</td>\n",
       "    </tr>\n",
       "    <tr>\n",
       "      <th>1</th>\n",
       "      <td>3</td>\n",
       "      <td>3.906741e+02</td>\n",
       "      <td>1.999373e+01</td>\n",
       "      <td>19.993727</td>\n",
       "      <td>8.696747e-16</td>\n",
       "      <td>1.158541e-10</td>\n",
       "    </tr>\n",
       "    <tr>\n",
       "      <th>2</th>\n",
       "      <td>4</td>\n",
       "      <td>2.975096e+04</td>\n",
       "      <td>1.841592e+02</td>\n",
       "      <td>183.387727</td>\n",
       "      <td>3.295975e-16</td>\n",
       "      <td>8.453185e-06</td>\n",
       "    </tr>\n",
       "    <tr>\n",
       "      <th>3</th>\n",
       "      <td>5</td>\n",
       "      <td>4.308598e+06</td>\n",
       "      <td>2.464521e+03</td>\n",
       "      <td>347.143670</td>\n",
       "      <td>1.052491e-15</td>\n",
       "      <td>5.885870e-05</td>\n",
       "    </tr>\n",
       "    <tr>\n",
       "      <th>4</th>\n",
       "      <td>6</td>\n",
       "      <td>1.000378e+09</td>\n",
       "      <td>4.288602e+04</td>\n",
       "      <td>210.606130</td>\n",
       "      <td>1.179612e-15</td>\n",
       "      <td>1.237788e-03</td>\n",
       "    </tr>\n",
       "    <tr>\n",
       "      <th>5</th>\n",
       "      <td>7</td>\n",
       "      <td>3.384474e+11</td>\n",
       "      <td>9.136852e+05</td>\n",
       "      <td>109.993797</td>\n",
       "      <td>1.309610e-15</td>\n",
       "      <td>2.403566e-02</td>\n",
       "    </tr>\n",
       "    <tr>\n",
       "      <th>6</th>\n",
       "      <td>8</td>\n",
       "      <td>1.572732e+14</td>\n",
       "      <td>2.301227e+07</td>\n",
       "      <td>32.875206</td>\n",
       "      <td>1.896053e-15</td>\n",
       "      <td>1.040402e-01</td>\n",
       "    </tr>\n",
       "    <tr>\n",
       "      <th>7</th>\n",
       "      <td>9</td>\n",
       "      <td>6.897003e+16</td>\n",
       "      <td>3.542439e+08</td>\n",
       "      <td>45.008785</td>\n",
       "      <td>2.135466e-15</td>\n",
       "      <td>1.291907e+00</td>\n",
       "    </tr>\n",
       "  </tbody>\n",
       "</table>\n",
       "</div>"
      ],
      "text/plain": [
       "   n       cond(A)   cond(B_eig)  cond(B_newton)       eig_dev    newton_dev\n",
       "0  2  1.372552e+01  3.805254e+00        3.805254  3.191891e-16  1.526557e-16\n",
       "1  3  3.906741e+02  1.999373e+01       19.993727  8.696747e-16  1.158541e-10\n",
       "2  4  2.975096e+04  1.841592e+02      183.387727  3.295975e-16  8.453185e-06\n",
       "3  5  4.308598e+06  2.464521e+03      347.143670  1.052491e-15  5.885870e-05\n",
       "4  6  1.000378e+09  4.288602e+04      210.606130  1.179612e-15  1.237788e-03\n",
       "5  7  3.384474e+11  9.136852e+05      109.993797  1.309610e-15  2.403566e-02\n",
       "6  8  1.572732e+14  2.301227e+07       32.875206  1.896053e-15  1.040402e-01\n",
       "7  9  6.897003e+16  3.542439e+08       45.008785  2.135466e-15  1.291907e+00"
      ]
     },
     "execution_count": 4,
     "metadata": {},
     "output_type": "execute_result"
    }
   ],
   "source": [
    "answer_array = []\n",
    "for n in range(2,10):\n",
    "    A = np.array([[a(i + 1) ** b(j + 1, n) for j in range(n)] for i in range(n)])\n",
    "    (eig_cond_B, eig_dev) = eigenSqrt(A)\n",
    "    (newton_cond_B, newton_dev) = newtonSqrt(A)\n",
    "    answer_array.append([n, np.linalg.cond(A), eig_cond_B, newton_cond_B, eig_dev, newton_dev])\n",
    "\n",
    "df = DataFrame(answer_array, columns=[\"n\", \"cond(A)\", \"cond(B_eig)\", \"cond(B_newton)\", \"eig_dev\", \"newton_dev\"])\n",
    "df"
   ]
  },
  {
   "cell_type": "markdown",
   "id": "international-extraction",
   "metadata": {},
   "source": [
    "**Результаты:** как мы можем наблюдать, для обоих предоставленных методов, числа обусловленности для матрицы **B** сначала более-менее равны, однако, начиная с **n = 5** разница увеличивается на порядки. Тем не менее, матрица **A** имеет самые большие числа обусловленности. Различие на порядки видно уже с **n = 2**"
   ]
  },
  {
   "cell_type": "markdown",
   "id": "juvenile-windows",
   "metadata": {},
   "source": [
    "При методе через собственные числа и векторы наблюдается отличная погрешность. Чего нельзя сказать о погрешности для метода Ньютона. Погрешность значительно ухудшается уже при **n = 3**, что позволяет сказать о наступлении момента неустойчивости процесса. "
   ]
  },
  {
   "cell_type": "markdown",
   "id": "communist-dryer",
   "metadata": {},
   "source": [
    "Так же, по причине отсутствия ошибки, делаем вывод о том, что собственные числа матрицы $A$ положительны."
   ]
  }
 ],
 "metadata": {
  "kernelspec": {
   "display_name": "Python 3",
   "language": "python",
   "name": "python3"
  },
  "language_info": {
   "codemirror_mode": {
    "name": "ipython",
    "version": 3
   },
   "file_extension": ".py",
   "mimetype": "text/x-python",
   "name": "python",
   "nbconvert_exporter": "python",
   "pygments_lexer": "ipython3",
   "version": "3.8.6"
  }
 },
 "nbformat": 4,
 "nbformat_minor": 5
}
